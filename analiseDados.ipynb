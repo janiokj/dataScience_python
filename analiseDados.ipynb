{
 "cells": [
  {
   "cell_type": "markdown",
   "metadata": {},
   "source": [
    "#### Bibliotecas\n",
    "- 'pip install pandas'\n",
    "- 'pip install openpyxl'\n",
    "- 'pip install plotly'\n",
    "- 'pip install nbformat'"
   ]
  },
  {
   "cell_type": "markdown",
   "metadata": {},
   "source": [
    "#### Carregando Dados"
   ]
  },
  {
   "cell_type": "code",
   "execution_count": 2,
   "metadata": {},
   "outputs": [
    {
     "name": "stderr",
     "output_type": "stream",
     "text": [
      "'#pip' n�o � reconhecido como um comando interno\n",
      "ou externo, um programa oper�vel ou um arquivo em lotes.\n"
     ]
    },
    {
     "name": "stdout",
     "output_type": "stream",
     "text": [
      "         codigo       marca        tipo  categoria  preco_unitario  custo  \\\n",
      "0    MOLO000251    Logitech       Mouse          1           25.95    6.5   \n",
      "1    MOLO000192    Logitech       Mouse          2           19.95    5.0   \n",
      "2    CAHA000251     Hashtag      Camisa          1           25.00   11.0   \n",
      "3    CAHA000252     Hashtag      Camisa          2           25.00   11.0   \n",
      "4    MOMU000111  Multilaser       Mouse          1           11.99    3.4   \n",
      "..          ...         ...         ...        ...             ...    ...   \n",
      "288  ACAP000192       Apple  Acessorios          2           19.00    3.8   \n",
      "289  ACSA0009.3     Samsung  Acessorios          3            9.55    2.1   \n",
      "290  CEMO000271    Motorola     Celular          1          279.00   72.5   \n",
      "291  FOMO000152    Motorola        Fone          2          150.00   33.0   \n",
      "292  CEMO000223    Motorola     Celular          3          229.00   55.0   \n",
      "\n",
      "                  obs  \n",
      "0                 NaN  \n",
      "1                 NaN  \n",
      "2                 NaN  \n",
      "3    Conferir estoque  \n",
      "4                 NaN  \n",
      "..                ...  \n",
      "288               NaN  \n",
      "289               NaN  \n",
      "290               NaN  \n",
      "291               NaN  \n",
      "292               NaN  \n",
      "\n",
      "[293 rows x 7 columns]\n"
     ]
    }
   ],
   "source": [
    "!#pip install ipython\n",
    "import pandas as pd\n",
    "import openpyxl\n",
    "import nbformat\n",
    "import plotly.express as px\n",
    "import IPython\n",
    "\n",
    "dados = pd.read_csv(\"produtos.csv\")\n",
    "print(dados)"
   ]
  },
  {
   "cell_type": "markdown",
   "metadata": {},
   "source": [
    "#### Análises Primárias"
   ]
  },
  {
   "cell_type": "code",
   "execution_count": 66,
   "metadata": {},
   "outputs": [
    {
     "data": {
      "text/html": [
       "<div>\n",
       "<style scoped>\n",
       "    .dataframe tbody tr th:only-of-type {\n",
       "        vertical-align: middle;\n",
       "    }\n",
       "\n",
       "    .dataframe tbody tr th {\n",
       "        vertical-align: top;\n",
       "    }\n",
       "\n",
       "    .dataframe thead th {\n",
       "        text-align: right;\n",
       "    }\n",
       "</style>\n",
       "<table border=\"1\" class=\"dataframe\">\n",
       "  <thead>\n",
       "    <tr style=\"text-align: right;\">\n",
       "      <th></th>\n",
       "      <th>codigo</th>\n",
       "      <th>marca</th>\n",
       "      <th>tipo</th>\n",
       "      <th>categoria</th>\n",
       "      <th>preco_unitario</th>\n",
       "      <th>custo</th>\n",
       "      <th>obs</th>\n",
       "    </tr>\n",
       "  </thead>\n",
       "  <tbody>\n",
       "    <tr>\n",
       "      <th>0</th>\n",
       "      <td>MOLO000251</td>\n",
       "      <td>Logitech</td>\n",
       "      <td>Mouse</td>\n",
       "      <td>1</td>\n",
       "      <td>25.95</td>\n",
       "      <td>6.5</td>\n",
       "      <td>NaN</td>\n",
       "    </tr>\n",
       "    <tr>\n",
       "      <th>1</th>\n",
       "      <td>MOLO000192</td>\n",
       "      <td>Logitech</td>\n",
       "      <td>Mouse</td>\n",
       "      <td>2</td>\n",
       "      <td>19.95</td>\n",
       "      <td>5.0</td>\n",
       "      <td>NaN</td>\n",
       "    </tr>\n",
       "    <tr>\n",
       "      <th>2</th>\n",
       "      <td>CAHA000251</td>\n",
       "      <td>Hashtag</td>\n",
       "      <td>Camisa</td>\n",
       "      <td>1</td>\n",
       "      <td>25.00</td>\n",
       "      <td>11.0</td>\n",
       "      <td>NaN</td>\n",
       "    </tr>\n",
       "    <tr>\n",
       "      <th>3</th>\n",
       "      <td>CAHA000252</td>\n",
       "      <td>Hashtag</td>\n",
       "      <td>Camisa</td>\n",
       "      <td>2</td>\n",
       "      <td>25.00</td>\n",
       "      <td>11.0</td>\n",
       "      <td>Conferir estoque</td>\n",
       "    </tr>\n",
       "    <tr>\n",
       "      <th>4</th>\n",
       "      <td>MOMU000111</td>\n",
       "      <td>Multilaser</td>\n",
       "      <td>Mouse</td>\n",
       "      <td>1</td>\n",
       "      <td>11.99</td>\n",
       "      <td>3.4</td>\n",
       "      <td>NaN</td>\n",
       "    </tr>\n",
       "    <tr>\n",
       "      <th>5</th>\n",
       "      <td>BOHA000251</td>\n",
       "      <td>Hashtag</td>\n",
       "      <td>Bone</td>\n",
       "      <td>1</td>\n",
       "      <td>25.00</td>\n",
       "      <td>11.0</td>\n",
       "      <td>NaN</td>\n",
       "    </tr>\n",
       "    <tr>\n",
       "      <th>6</th>\n",
       "      <td>BOHA000252</td>\n",
       "      <td>Hashtag</td>\n",
       "      <td>Bone</td>\n",
       "      <td>2</td>\n",
       "      <td>25.00</td>\n",
       "      <td>11.0</td>\n",
       "      <td>NaN</td>\n",
       "    </tr>\n",
       "    <tr>\n",
       "      <th>7</th>\n",
       "      <td>CAHA000273</td>\n",
       "      <td>Hashtag</td>\n",
       "      <td>Camisa</td>\n",
       "      <td>3</td>\n",
       "      <td>27.50</td>\n",
       "      <td>12.4</td>\n",
       "      <td>Troca de fornecedor</td>\n",
       "    </tr>\n",
       "    <tr>\n",
       "      <th>8</th>\n",
       "      <td>CAHA000274</td>\n",
       "      <td>Hashtag</td>\n",
       "      <td>Camisa</td>\n",
       "      <td>4</td>\n",
       "      <td>27.50</td>\n",
       "      <td>12.4</td>\n",
       "      <td>NaN</td>\n",
       "    </tr>\n",
       "    <tr>\n",
       "      <th>9</th>\n",
       "      <td>CAHA000275</td>\n",
       "      <td>Hashtag</td>\n",
       "      <td>Camisa</td>\n",
       "      <td>5</td>\n",
       "      <td>27.50</td>\n",
       "      <td>12.4</td>\n",
       "      <td>NaN</td>\n",
       "    </tr>\n",
       "  </tbody>\n",
       "</table>\n",
       "</div>"
      ],
      "text/plain": [
       "       codigo       marca    tipo  categoria  preco_unitario  custo  \\\n",
       "0  MOLO000251    Logitech   Mouse          1           25.95    6.5   \n",
       "1  MOLO000192    Logitech   Mouse          2           19.95    5.0   \n",
       "2  CAHA000251     Hashtag  Camisa          1           25.00   11.0   \n",
       "3  CAHA000252     Hashtag  Camisa          2           25.00   11.0   \n",
       "4  MOMU000111  Multilaser   Mouse          1           11.99    3.4   \n",
       "5  BOHA000251     Hashtag    Bone          1           25.00   11.0   \n",
       "6  BOHA000252     Hashtag    Bone          2           25.00   11.0   \n",
       "7  CAHA000273     Hashtag  Camisa          3           27.50   12.4   \n",
       "8  CAHA000274     Hashtag  Camisa          4           27.50   12.4   \n",
       "9  CAHA000275     Hashtag  Camisa          5           27.50   12.4   \n",
       "\n",
       "                   obs  \n",
       "0                  NaN  \n",
       "1                  NaN  \n",
       "2                  NaN  \n",
       "3     Conferir estoque  \n",
       "4                  NaN  \n",
       "5                  NaN  \n",
       "6                  NaN  \n",
       "7  Troca de fornecedor  \n",
       "8                  NaN  \n",
       "9                  NaN  "
      ]
     },
     "execution_count": 66,
     "metadata": {},
     "output_type": "execute_result"
    }
   ],
   "source": [
    "dados.head(10) # Carregar as primeiras 10 linhas"
   ]
  },
  {
   "cell_type": "code",
   "execution_count": 58,
   "metadata": {},
   "outputs": [
    {
     "data": {
      "text/html": [
       "<div>\n",
       "<style scoped>\n",
       "    .dataframe tbody tr th:only-of-type {\n",
       "        vertical-align: middle;\n",
       "    }\n",
       "\n",
       "    .dataframe tbody tr th {\n",
       "        vertical-align: top;\n",
       "    }\n",
       "\n",
       "    .dataframe thead th {\n",
       "        text-align: right;\n",
       "    }\n",
       "</style>\n",
       "<table border=\"1\" class=\"dataframe\">\n",
       "  <thead>\n",
       "    <tr style=\"text-align: right;\">\n",
       "      <th></th>\n",
       "      <th>codigo</th>\n",
       "      <th>marca</th>\n",
       "      <th>tipo</th>\n",
       "      <th>categoria</th>\n",
       "      <th>preco_unitario</th>\n",
       "      <th>custo</th>\n",
       "      <th>obs</th>\n",
       "    </tr>\n",
       "  </thead>\n",
       "  <tbody>\n",
       "    <tr>\n",
       "      <th>283</th>\n",
       "      <td>NORA0001911</td>\n",
       "      <td>Razer</td>\n",
       "      <td>Notebook</td>\n",
       "      <td>11</td>\n",
       "      <td>1999.00</td>\n",
       "      <td>439.8</td>\n",
       "      <td>NaN</td>\n",
       "    </tr>\n",
       "    <tr>\n",
       "      <th>284</th>\n",
       "      <td>NORA0007912</td>\n",
       "      <td>Razer</td>\n",
       "      <td>Notebook</td>\n",
       "      <td>12</td>\n",
       "      <td>7999.00</td>\n",
       "      <td>2159.7</td>\n",
       "      <td>NaN</td>\n",
       "    </tr>\n",
       "    <tr>\n",
       "      <th>285</th>\n",
       "      <td>NOLE0001713</td>\n",
       "      <td>Lenovo</td>\n",
       "      <td>Notebook</td>\n",
       "      <td>13</td>\n",
       "      <td>1750.00</td>\n",
       "      <td>455.0</td>\n",
       "      <td>NaN</td>\n",
       "    </tr>\n",
       "    <tr>\n",
       "      <th>286</th>\n",
       "      <td>NODE0001614</td>\n",
       "      <td>Dell</td>\n",
       "      <td>Notebook</td>\n",
       "      <td>14</td>\n",
       "      <td>1600.00</td>\n",
       "      <td>352.0</td>\n",
       "      <td>NaN</td>\n",
       "    </tr>\n",
       "    <tr>\n",
       "      <th>287</th>\n",
       "      <td>ACAP000391</td>\n",
       "      <td>Apple</td>\n",
       "      <td>Acessorios</td>\n",
       "      <td>1</td>\n",
       "      <td>39.99</td>\n",
       "      <td>11.9</td>\n",
       "      <td>NaN</td>\n",
       "    </tr>\n",
       "    <tr>\n",
       "      <th>288</th>\n",
       "      <td>ACAP000192</td>\n",
       "      <td>Apple</td>\n",
       "      <td>Acessorios</td>\n",
       "      <td>2</td>\n",
       "      <td>19.00</td>\n",
       "      <td>3.8</td>\n",
       "      <td>NaN</td>\n",
       "    </tr>\n",
       "    <tr>\n",
       "      <th>289</th>\n",
       "      <td>ACSA0009.3</td>\n",
       "      <td>Samsung</td>\n",
       "      <td>Acessorios</td>\n",
       "      <td>3</td>\n",
       "      <td>9.55</td>\n",
       "      <td>2.1</td>\n",
       "      <td>NaN</td>\n",
       "    </tr>\n",
       "    <tr>\n",
       "      <th>290</th>\n",
       "      <td>CEMO000271</td>\n",
       "      <td>Motorola</td>\n",
       "      <td>Celular</td>\n",
       "      <td>1</td>\n",
       "      <td>279.00</td>\n",
       "      <td>72.5</td>\n",
       "      <td>NaN</td>\n",
       "    </tr>\n",
       "    <tr>\n",
       "      <th>291</th>\n",
       "      <td>FOMO000152</td>\n",
       "      <td>Motorola</td>\n",
       "      <td>Fone</td>\n",
       "      <td>2</td>\n",
       "      <td>150.00</td>\n",
       "      <td>33.0</td>\n",
       "      <td>NaN</td>\n",
       "    </tr>\n",
       "    <tr>\n",
       "      <th>292</th>\n",
       "      <td>CEMO000223</td>\n",
       "      <td>Motorola</td>\n",
       "      <td>Celular</td>\n",
       "      <td>3</td>\n",
       "      <td>229.00</td>\n",
       "      <td>55.0</td>\n",
       "      <td>NaN</td>\n",
       "    </tr>\n",
       "  </tbody>\n",
       "</table>\n",
       "</div>"
      ],
      "text/plain": [
       "          codigo     marca        tipo  categoria  preco_unitario   custo  obs\n",
       "283  NORA0001911     Razer    Notebook         11         1999.00   439.8  NaN\n",
       "284  NORA0007912     Razer    Notebook         12         7999.00  2159.7  NaN\n",
       "285  NOLE0001713    Lenovo    Notebook         13         1750.00   455.0  NaN\n",
       "286  NODE0001614      Dell    Notebook         14         1600.00   352.0  NaN\n",
       "287   ACAP000391     Apple  Acessorios          1           39.99    11.9  NaN\n",
       "288   ACAP000192     Apple  Acessorios          2           19.00     3.8  NaN\n",
       "289   ACSA0009.3   Samsung  Acessorios          3            9.55     2.1  NaN\n",
       "290   CEMO000271  Motorola     Celular          1          279.00    72.5  NaN\n",
       "291   FOMO000152  Motorola        Fone          2          150.00    33.0  NaN\n",
       "292   CEMO000223  Motorola     Celular          3          229.00    55.0  NaN"
      ]
     },
     "execution_count": 58,
     "metadata": {},
     "output_type": "execute_result"
    }
   ],
   "source": [
    "dados.tail(10) # Carregar as últimas 10 linhas"
   ]
  },
  {
   "cell_type": "code",
   "execution_count": 46,
   "metadata": {},
   "outputs": [
    {
     "data": {
      "text/plain": [
       "(293, 7)"
      ]
     },
     "execution_count": 46,
     "metadata": {},
     "output_type": "execute_result"
    }
   ],
   "source": [
    "dados.shape # Propriedade do pandas que monstra o formata (quantidade de linhas e colunas)"
   ]
  },
  {
   "cell_type": "code",
   "execution_count": null,
   "metadata": {},
   "outputs": [],
   "source": [
    "dados.info() # Visualização das informações da tabela"
   ]
  },
  {
   "cell_type": "code",
   "execution_count": null,
   "metadata": {},
   "outputs": [],
   "source": [
    "dados[[\"marca\",\"preco_unitario\"]] # Permite escolher colunas específicas"
   ]
  },
  {
   "cell_type": "markdown",
   "metadata": {},
   "source": [
    "#### Estatísticas"
   ]
  },
  {
   "cell_type": "code",
   "execution_count": null,
   "metadata": {},
   "outputs": [],
   "source": [
    "dados.describe() # Informações estatísticas. Por padrão ele traz apenas os valores numéricos"
   ]
  },
  {
   "cell_type": "markdown",
   "metadata": {},
   "source": [
    "#### Análises"
   ]
  },
  {
   "cell_type": "code",
   "execution_count": null,
   "metadata": {},
   "outputs": [],
   "source": [
    "# Contagem por Marca\n",
    "dados[\"marca\"].value_counts()"
   ]
  },
  {
   "cell_type": "markdown",
   "metadata": {},
   "source": [
    "#### Agrupando Dados"
   ]
  },
  {
   "cell_type": "code",
   "execution_count": null,
   "metadata": {},
   "outputs": [],
   "source": [
    "dados.groupby(\"tipo\")[\"preco_unitario\"].sum().to_frame() # Soma todos os valores por item. A sufixo to_frame é só para deixar mais bonito"
   ]
  },
  {
   "cell_type": "code",
   "execution_count": 52,
   "metadata": {},
   "outputs": [],
   "source": [
    "dados_agrupados = dados.groupby([\"marca\", \"tipo\", \"categoria\"])[\"preco_unitario\"].sum().to_frame()"
   ]
  },
  {
   "cell_type": "markdown",
   "metadata": {},
   "source": [
    "#### Exportando Resultados"
   ]
  },
  {
   "cell_type": "code",
   "execution_count": 53,
   "metadata": {},
   "outputs": [],
   "source": [
    "dados_agrupados.to_excel(\"faturamento_agrupado.xlsx\") # Para funcionar essa saída que se precisa da biblioteca openpyxl"
   ]
  },
  {
   "cell_type": "markdown",
   "metadata": {},
   "source": [
    "#### Vizualizando Dados"
   ]
  },
  {
   "cell_type": "code",
   "execution_count": 5,
   "metadata": {},
   "outputs": [
    {
     "data": {
      "application/vnd.plotly.v1+json": {
       "config": {
        "plotlyServerURL": "https://plot.ly"
       },
       "data": [
        {
         "alignmentgroup": "True",
         "bingroup": "x",
         "histfunc": "sum",
         "hovertemplate": "marca=Logitech<br>tipo=%{x}<br>sum of preco_unitario=%{y}<extra></extra>",
         "legendgroup": "Logitech",
         "marker": {
          "color": "#636efa",
          "pattern": {
           "shape": ""
          }
         },
         "name": "Logitech",
         "offsetgroup": "Logitech",
         "orientation": "v",
         "showlegend": true,
         "texttemplate": "%{value}",
         "type": "histogram",
         "x": [
          "Mouse",
          "Mouse",
          "Teclado",
          "Teclado",
          "Mouse",
          "Mouse"
         ],
         "xaxis": "x",
         "y": [
          25.95,
          19.95,
          138,
          44,
          6.99,
          15.99
         ],
         "yaxis": "y"
        },
        {
         "alignmentgroup": "True",
         "bingroup": "x",
         "histfunc": "sum",
         "hovertemplate": "marca=Hashtag<br>tipo=%{x}<br>sum of preco_unitario=%{y}<extra></extra>",
         "legendgroup": "Hashtag",
         "marker": {
          "color": "#EF553B",
          "pattern": {
           "shape": ""
          }
         },
         "name": "Hashtag",
         "offsetgroup": "Hashtag",
         "orientation": "v",
         "showlegend": true,
         "texttemplate": "%{value}",
         "type": "histogram",
         "x": [
          "Camisa",
          "Camisa",
          "Bone",
          "Bone",
          "Camisa",
          "Camisa",
          "Camisa",
          "Camisa",
          "Mochila",
          "Mochila",
          "Camisa",
          "Camisa",
          "Chaveiro",
          "Camisa",
          "Camisa",
          "Camisa",
          "Camisa",
          "Casaco",
          "Casaco",
          "Casaco",
          "Casaco",
          "Casaco",
          "Casaco",
          "Casaco",
          "Casaco",
          "Casaco",
          "Casaco",
          "Casaco",
          "Casaco",
          "Casaco",
          "Casaco",
          "Bermuda",
          "Bermuda",
          "Casaco",
          "Casaco"
         ],
         "xaxis": "x",
         "y": [
          25,
          25,
          25,
          25,
          27.5,
          27.5,
          27.5,
          27.5,
          25,
          25,
          25,
          25,
          27,
          27,
          27,
          27,
          9.9,
          45.9,
          45.9,
          45.9,
          45.9,
          48.9,
          48.9,
          48.9,
          48.9,
          45.9,
          45.9,
          45.9,
          45.9,
          48.9,
          48.9,
          48.9,
          48.9,
          12.9,
          12.9
         ],
         "yaxis": "y"
        },
        {
         "alignmentgroup": "True",
         "bingroup": "x",
         "histfunc": "sum",
         "hovertemplate": "marca=Multilaser<br>tipo=%{x}<br>sum of preco_unitario=%{y}<extra></extra>",
         "legendgroup": "Multilaser",
         "marker": {
          "color": "#00cc96",
          "pattern": {
           "shape": ""
          }
         },
         "name": "Multilaser",
         "offsetgroup": "Multilaser",
         "orientation": "v",
         "showlegend": true,
         "texttemplate": "%{value}",
         "type": "histogram",
         "x": [
          "Mouse",
          "Mouse",
          "Mouse",
          "Notebook",
          "Teclado",
          "Teclado"
         ],
         "xaxis": "x",
         "y": [
          11.99,
          4.99,
          3.99,
          199,
          21.99,
          8.99
         ],
         "yaxis": "y"
        },
        {
         "alignmentgroup": "True",
         "bingroup": "x",
         "histfunc": "sum",
         "hovertemplate": "marca=LG<br>tipo=%{x}<br>sum of preco_unitario=%{y}<extra></extra>",
         "legendgroup": "LG",
         "marker": {
          "color": "#ab63fa",
          "pattern": {
           "shape": ""
          }
         },
         "name": "LG",
         "offsetgroup": "LG",
         "orientation": "v",
         "showlegend": true,
         "texttemplate": "%{value}",
         "type": "histogram",
         "x": [
          "Televisao",
          "Televisao",
          "Televisao",
          "Televisao",
          "Monitor",
          "Monitor",
          "Teclado",
          "Teclado",
          "Monitor",
          "Televisao",
          "Televisao",
          "Teclado",
          "Notebook"
         ],
         "xaxis": "x",
         "y": [
          820,
          250,
          378,
          520,
          129,
          1796.99,
          110,
          20,
          789.99,
          390,
          550,
          10,
          1393
         ],
         "yaxis": "y"
        },
        {
         "alignmentgroup": "True",
         "bingroup": "x",
         "histfunc": "sum",
         "hovertemplate": "marca=Samsung<br>tipo=%{x}<br>sum of preco_unitario=%{y}<extra></extra>",
         "legendgroup": "Samsung",
         "marker": {
          "color": "#FFA15A",
          "pattern": {
           "shape": ""
          }
         },
         "name": "Samsung",
         "offsetgroup": "Samsung",
         "orientation": "v",
         "showlegend": true,
         "texttemplate": "%{value}",
         "type": "histogram",
         "x": [
          "Televisao",
          "Televisao",
          "Televisao",
          "Televisao",
          "Televisao",
          "Televisao",
          "Relogio",
          "Relogio",
          "Relogio",
          "Relogio",
          "Celular",
          "Notebook",
          "Relogio",
          "Relogio",
          "Celular",
          "Celular",
          "Celular",
          "Celular",
          "Celular",
          "Celular",
          "Celular",
          "Celular",
          "Celular",
          "Celular",
          "Celular",
          "Celular",
          "Monitor",
          "Relogio",
          "Monitor",
          "Monitor",
          "Monitor",
          "Acessorios",
          "Acessorios",
          "Acessorios",
          "Acessorios",
          "Acessorios",
          "Acessorios",
          "Notebook",
          "Notebook",
          "Acessorios"
         ],
         "xaxis": "x",
         "y": [
          1260,
          340,
          740,
          10000,
          720,
          2000,
          280,
          290,
          380,
          320,
          200,
          1349.99,
          50,
          60,
          300,
          400,
          100,
          150,
          200,
          270,
          100,
          800,
          900,
          120,
          150,
          200,
          159.99,
          240,
          199.99,
          129.99,
          179.99,
          19.99,
          24.99,
          29.99,
          8.9,
          14.9,
          12.5,
          399,
          549,
          9.55
         ],
         "yaxis": "y"
        },
        {
         "alignmentgroup": "True",
         "bingroup": "x",
         "histfunc": "sum",
         "hovertemplate": "marca=AOC<br>tipo=%{x}<br>sum of preco_unitario=%{y}<extra></extra>",
         "legendgroup": "AOC",
         "marker": {
          "color": "#19d3f3",
          "pattern": {
           "shape": ""
          }
         },
         "name": "AOC",
         "offsetgroup": "AOC",
         "orientation": "v",
         "showlegend": true,
         "texttemplate": "%{value}",
         "type": "histogram",
         "x": [
          "Televisao",
          "Televisao"
         ],
         "xaxis": "x",
         "y": [
          250,
          360
         ],
         "yaxis": "y"
        },
        {
         "alignmentgroup": "True",
         "bingroup": "x",
         "histfunc": "sum",
         "hovertemplate": "marca=Toshiba<br>tipo=%{x}<br>sum of preco_unitario=%{y}<extra></extra>",
         "legendgroup": "Toshiba",
         "marker": {
          "color": "#FF6692",
          "pattern": {
           "shape": ""
          }
         },
         "name": "Toshiba",
         "offsetgroup": "Toshiba",
         "orientation": "v",
         "showlegend": true,
         "texttemplate": "%{value}",
         "type": "histogram",
         "x": [
          "Televisao",
          "Televisao",
          "Televisao"
         ],
         "xaxis": "x",
         "y": [
          640,
          800,
          600
         ],
         "yaxis": "y"
        },
        {
         "alignmentgroup": "True",
         "bingroup": "x",
         "histfunc": "sum",
         "hovertemplate": "marca=SEMP<br>tipo=%{x}<br>sum of preco_unitario=%{y}<extra></extra>",
         "legendgroup": "SEMP",
         "marker": {
          "color": "#B6E880",
          "pattern": {
           "shape": ""
          }
         },
         "name": "SEMP",
         "offsetgroup": "SEMP",
         "orientation": "v",
         "showlegend": true,
         "texttemplate": "%{value}",
         "type": "histogram",
         "x": [
          "Televisao",
          "Televisao",
          "Televisao"
         ],
         "xaxis": "x",
         "y": [
          500,
          380,
          500
         ],
         "yaxis": "y"
        },
        {
         "alignmentgroup": "True",
         "bingroup": "x",
         "histfunc": "sum",
         "hovertemplate": "marca=Philco<br>tipo=%{x}<br>sum of preco_unitario=%{y}<extra></extra>",
         "legendgroup": "Philco",
         "marker": {
          "color": "#FF97FF",
          "pattern": {
           "shape": ""
          }
         },
         "name": "Philco",
         "offsetgroup": "Philco",
         "orientation": "v",
         "showlegend": true,
         "texttemplate": "%{value}",
         "type": "histogram",
         "x": [
          "Televisao",
          "Televisao"
         ],
         "xaxis": "x",
         "y": [
          400,
          279.8
         ],
         "yaxis": "y"
        },
        {
         "alignmentgroup": "True",
         "bingroup": "x",
         "histfunc": "sum",
         "hovertemplate": "marca=TCL<br>tipo=%{x}<br>sum of preco_unitario=%{y}<extra></extra>",
         "legendgroup": "TCL",
         "marker": {
          "color": "#FECB52",
          "pattern": {
           "shape": ""
          }
         },
         "name": "TCL",
         "offsetgroup": "TCL",
         "orientation": "v",
         "showlegend": true,
         "texttemplate": "%{value}",
         "type": "histogram",
         "x": [
          "Televisao",
          "Televisao",
          "Televisao"
         ],
         "xaxis": "x",
         "y": [
          158,
          220,
          1200
         ],
         "yaxis": "y"
        },
        {
         "alignmentgroup": "True",
         "bingroup": "x",
         "histfunc": "sum",
         "hovertemplate": "marca=Garmin<br>tipo=%{x}<br>sum of preco_unitario=%{y}<extra></extra>",
         "legendgroup": "Garmin",
         "marker": {
          "color": "#636efa",
          "pattern": {
           "shape": ""
          }
         },
         "name": "Garmin",
         "offsetgroup": "Garmin",
         "orientation": "v",
         "showlegend": true,
         "texttemplate": "%{value}",
         "type": "histogram",
         "x": [
          "Relogio",
          "Relogio",
          "Relogio",
          "Relogio"
         ],
         "xaxis": "x",
         "y": [
          440,
          720,
          920,
          800
         ],
         "yaxis": "y"
        },
        {
         "alignmentgroup": "True",
         "bingroup": "x",
         "histfunc": "sum",
         "hovertemplate": "marca=Xiaomi<br>tipo=%{x}<br>sum of preco_unitario=%{y}<extra></extra>",
         "legendgroup": "Xiaomi",
         "marker": {
          "color": "#EF553B",
          "pattern": {
           "shape": ""
          }
         },
         "name": "Xiaomi",
         "offsetgroup": "Xiaomi",
         "orientation": "v",
         "showlegend": true,
         "texttemplate": "%{value}",
         "type": "histogram",
         "x": [
          "Relogio",
          "Relogio",
          "Relogio",
          "Relogio",
          "Celular",
          "Celular",
          "Celular",
          "Celular",
          "Celular",
          "Celular",
          "Celular",
          "Celular",
          "Celular",
          "Celular",
          "Celular"
         ],
         "xaxis": "x",
         "y": [
          46.4,
          74,
          36,
          114,
          257,
          317,
          159,
          219,
          249,
          329,
          299,
          249,
          250,
          279,
          350
         ],
         "yaxis": "y"
        },
        {
         "alignmentgroup": "True",
         "bingroup": "x",
         "histfunc": "sum",
         "hovertemplate": "marca=Apple<br>tipo=%{x}<br>sum of preco_unitario=%{y}<extra></extra>",
         "legendgroup": "Apple",
         "marker": {
          "color": "#00cc96",
          "pattern": {
           "shape": ""
          }
         },
         "name": "Apple",
         "offsetgroup": "Apple",
         "orientation": "v",
         "showlegend": true,
         "texttemplate": "%{value}",
         "type": "histogram",
         "x": [
          "Celular",
          "Celular",
          "Celular",
          "Celular",
          "Celular",
          "Celular",
          "Celular",
          "Celular",
          "Celular",
          "Celular",
          "Celular",
          "Celular",
          "Celular",
          "Celular",
          "Celular",
          "Celular",
          "Celular",
          "Celular",
          "Celular",
          "Celular",
          "Celular",
          "Celular",
          "Celular",
          "Celular",
          "Celular",
          "Celular",
          "Celular",
          "Celular",
          "Celular",
          "Celular",
          "Celular",
          "Celular",
          "Celular",
          "Celular",
          "Celular",
          "Celular",
          "Celular",
          "Celular",
          "Celular",
          "Relogio",
          "Notebook",
          "Notebook",
          "Notebook",
          "Notebook",
          "Notebook",
          "Notebook",
          "Relogio",
          "Relogio",
          "Relogio",
          "Relogio",
          "Relogio",
          "Relogio",
          "Relogio",
          "Acessorios",
          "Acessorios",
          "Acessorios",
          "Acessorios",
          "Acessorios",
          "Notebook",
          "Acessorios",
          "Acessorios"
         ],
         "xaxis": "x",
         "y": [
          1099,
          1199,
          1399,
          1599,
          999,
          1099,
          1299,
          1499,
          799,
          899,
          1099,
          699,
          799,
          999,
          429,
          479,
          579,
          949,
          1049,
          1249,
          1449,
          849,
          949,
          1149,
          1349,
          649,
          749,
          949,
          549,
          649,
          849,
          599,
          699,
          549,
          649,
          449,
          499,
          499,
          549,
          789,
          1499,
          2549,
          6400,
          2499,
          1299,
          5999,
          1080,
          700,
          640,
          500,
          480,
          440,
          320,
          19,
          22,
          29,
          19,
          29,
          5099,
          39.99,
          19
         ],
         "yaxis": "y"
        },
        {
         "alignmentgroup": "True",
         "bingroup": "x",
         "histfunc": "sum",
         "hovertemplate": "marca=Dell<br>tipo=%{x}<br>sum of preco_unitario=%{y}<extra></extra>",
         "legendgroup": "Dell",
         "marker": {
          "color": "#ab63fa",
          "pattern": {
           "shape": ""
          }
         },
         "name": "Dell",
         "offsetgroup": "Dell",
         "orientation": "v",
         "showlegend": true,
         "texttemplate": "%{value}",
         "type": "histogram",
         "x": [
          "Notebook",
          "Notebook",
          "Notebook",
          "Notebook",
          "Notebook",
          "Teclado",
          "Teclado",
          "Mouse",
          "Mouse",
          "Mouse",
          "Notebook",
          "Notebook",
          "Notebook",
          "Notebook"
         ],
         "xaxis": "x",
         "y": [
          448,
          512,
          498,
          600,
          740,
          36,
          48,
          19.99,
          14.99,
          28.99,
          5099,
          549,
          1220,
          1600
         ],
         "yaxis": "y"
        },
        {
         "alignmentgroup": "True",
         "bingroup": "x",
         "histfunc": "sum",
         "hovertemplate": "marca=Lenovo<br>tipo=%{x}<br>sum of preco_unitario=%{y}<extra></extra>",
         "legendgroup": "Lenovo",
         "marker": {
          "color": "#FFA15A",
          "pattern": {
           "shape": ""
          }
         },
         "name": "Lenovo",
         "offsetgroup": "Lenovo",
         "orientation": "v",
         "showlegend": true,
         "texttemplate": "%{value}",
         "type": "histogram",
         "x": [
          "Notebook",
          "Notebook",
          "Notebook",
          "Notebook",
          "Notebook",
          "Notebook",
          "Notebook",
          "Notebook",
          "Notebook",
          "Notebook"
         ],
         "xaxis": "x",
         "y": [
          188.61,
          989.99,
          749,
          999,
          349,
          299,
          999,
          1487,
          249,
          1750
         ],
         "yaxis": "y"
        },
        {
         "alignmentgroup": "True",
         "bingroup": "x",
         "histfunc": "sum",
         "hovertemplate": "marca=Acer<br>tipo=%{x}<br>sum of preco_unitario=%{y}<extra></extra>",
         "legendgroup": "Acer",
         "marker": {
          "color": "#19d3f3",
          "pattern": {
           "shape": ""
          }
         },
         "name": "Acer",
         "offsetgroup": "Acer",
         "orientation": "v",
         "showlegend": true,
         "texttemplate": "%{value}",
         "type": "histogram",
         "x": [
          "Notebook",
          "Notebook",
          "Notebook",
          "Notebook",
          "Notebook",
          "Notebook",
          "Notebook"
         ],
         "xaxis": "x",
         "y": [
          227,
          529.99,
          2199,
          1299,
          799,
          1249,
          700
         ],
         "yaxis": "y"
        },
        {
         "alignmentgroup": "True",
         "bingroup": "x",
         "histfunc": "sum",
         "hovertemplate": "marca=HP<br>tipo=%{x}<br>sum of preco_unitario=%{y}<extra></extra>",
         "legendgroup": "HP",
         "marker": {
          "color": "#FF6692",
          "pattern": {
           "shape": ""
          }
         },
         "name": "HP",
         "offsetgroup": "HP",
         "orientation": "v",
         "showlegend": true,
         "texttemplate": "%{value}",
         "type": "histogram",
         "x": [
          "Notebook",
          "Notebook",
          "Notebook",
          "Notebook",
          "Notebook",
          "Notebook",
          "Notebook",
          "Notebook",
          "Notebook",
          "Notebook",
          "Notebook"
         ],
         "xaxis": "x",
         "y": [
          214,
          799,
          239.88,
          529,
          359,
          599,
          750,
          949,
          4999,
          820,
          1600
         ],
         "yaxis": "y"
        },
        {
         "alignmentgroup": "True",
         "bingroup": "x",
         "histfunc": "sum",
         "hovertemplate": "marca=Microsoft<br>tipo=%{x}<br>sum of preco_unitario=%{y}<extra></extra>",
         "legendgroup": "Microsoft",
         "marker": {
          "color": "#B6E880",
          "pattern": {
           "shape": ""
          }
         },
         "name": "Microsoft",
         "offsetgroup": "Microsoft",
         "orientation": "v",
         "showlegend": true,
         "texttemplate": "%{value}",
         "type": "histogram",
         "x": [
          "Notebook",
          "Notebook",
          "Notebook",
          "Notebook",
          "Notebook"
         ],
         "xaxis": "x",
         "y": [
          429,
          999,
          2199,
          1999,
          3600
         ],
         "yaxis": "y"
        },
        {
         "alignmentgroup": "True",
         "bingroup": "x",
         "histfunc": "sum",
         "hovertemplate": "marca=Asus<br>tipo=%{x}<br>sum of preco_unitario=%{y}<extra></extra>",
         "legendgroup": "Asus",
         "marker": {
          "color": "#FF97FF",
          "pattern": {
           "shape": ""
          }
         },
         "name": "Asus",
         "offsetgroup": "Asus",
         "orientation": "v",
         "showlegend": true,
         "texttemplate": "%{value}",
         "type": "histogram",
         "x": [
          "Notebook",
          "Notebook",
          "Notebook",
          "Notebook",
          "Notebook"
         ],
         "xaxis": "x",
         "y": [
          629.99,
          1599,
          1999,
          6999,
          700
         ],
         "yaxis": "y"
        },
        {
         "alignmentgroup": "True",
         "bingroup": "x",
         "histfunc": "sum",
         "hovertemplate": "marca=Motorola<br>tipo=%{x}<br>sum of preco_unitario=%{y}<extra></extra>",
         "legendgroup": "Motorola",
         "marker": {
          "color": "#FECB52",
          "pattern": {
           "shape": ""
          }
         },
         "name": "Motorola",
         "offsetgroup": "Motorola",
         "orientation": "v",
         "showlegend": true,
         "texttemplate": "%{value}",
         "type": "histogram",
         "x": [
          "Celular",
          "Celular",
          "Celular",
          "Celular",
          "Celular",
          "Celular",
          "Celular",
          "Celular",
          "Celular",
          "Celular",
          "Fone",
          "Celular"
         ],
         "xaxis": "x",
         "y": [
          69,
          99,
          100,
          150,
          89,
          119,
          69,
          99,
          199,
          279,
          150,
          229
         ],
         "yaxis": "y"
        },
        {
         "alignmentgroup": "True",
         "bingroup": "x",
         "histfunc": "sum",
         "hovertemplate": "marca=Spectre<br>tipo=%{x}<br>sum of preco_unitario=%{y}<extra></extra>",
         "legendgroup": "Spectre",
         "marker": {
          "color": "#636efa",
          "pattern": {
           "shape": ""
          }
         },
         "name": "Spectre",
         "offsetgroup": "Spectre",
         "orientation": "v",
         "showlegend": true,
         "texttemplate": "%{value}",
         "type": "histogram",
         "x": [
          "Monitor",
          "Monitor",
          "Mouse"
         ],
         "xaxis": "x",
         "y": [
          229.99,
          132.72,
          7.99
         ],
         "yaxis": "y"
        },
        {
         "alignmentgroup": "True",
         "bingroup": "x",
         "histfunc": "sum",
         "hovertemplate": "marca=Vizio<br>tipo=%{x}<br>sum of preco_unitario=%{y}<extra></extra>",
         "legendgroup": "Vizio",
         "marker": {
          "color": "#EF553B",
          "pattern": {
           "shape": ""
          }
         },
         "name": "Vizio",
         "offsetgroup": "Vizio",
         "orientation": "v",
         "showlegend": true,
         "texttemplate": "%{value}",
         "type": "histogram",
         "x": [
          "Televisao",
          "Televisao",
          "Televisao"
         ],
         "xaxis": "x",
         "y": [
          159,
          440,
          240
         ],
         "yaxis": "y"
        },
        {
         "alignmentgroup": "True",
         "bingroup": "x",
         "histfunc": "sum",
         "hovertemplate": "marca=Insignia<br>tipo=%{x}<br>sum of preco_unitario=%{y}<extra></extra>",
         "legendgroup": "Insignia",
         "marker": {
          "color": "#00cc96",
          "pattern": {
           "shape": ""
          }
         },
         "name": "Insignia",
         "offsetgroup": "Insignia",
         "orientation": "v",
         "showlegend": true,
         "texttemplate": "%{value}",
         "type": "histogram",
         "x": [
          "Televisao",
          "Televisao",
          "Televisao"
         ],
         "xaxis": "x",
         "y": [
          250,
          343,
          189.99
         ],
         "yaxis": "y"
        },
        {
         "alignmentgroup": "True",
         "bingroup": "x",
         "histfunc": "sum",
         "hovertemplate": "marca=Sony<br>tipo=%{x}<br>sum of preco_unitario=%{y}<extra></extra>",
         "legendgroup": "Sony",
         "marker": {
          "color": "#ab63fa",
          "pattern": {
           "shape": ""
          }
         },
         "name": "Sony",
         "offsetgroup": "Sony",
         "orientation": "v",
         "showlegend": true,
         "texttemplate": "%{value}",
         "type": "histogram",
         "x": [
          "Televisao",
          "Televisao",
          "Televisao",
          "Televisao",
          "Camera",
          "Camera",
          "Camera",
          "Camera",
          "Camera",
          "Camera"
         ],
         "xaxis": "x",
         "y": [
          1200,
          3300,
          600,
          599,
          2198,
          1598,
          1298,
          1698,
          998,
          3498
         ],
         "yaxis": "y"
        },
        {
         "alignmentgroup": "True",
         "bingroup": "x",
         "histfunc": "sum",
         "hovertemplate": "marca=Canon<br>tipo=%{x}<br>sum of preco_unitario=%{y}<extra></extra>",
         "legendgroup": "Canon",
         "marker": {
          "color": "#FFA15A",
          "pattern": {
           "shape": ""
          }
         },
         "name": "Canon",
         "offsetgroup": "Canon",
         "orientation": "v",
         "showlegend": true,
         "texttemplate": "%{value}",
         "type": "histogram",
         "x": [
          "Camera",
          "Camera",
          "Camera",
          "Camera"
         ],
         "xaxis": "x",
         "y": [
          589,
          509,
          489,
          899
         ],
         "yaxis": "y"
        },
        {
         "alignmentgroup": "True",
         "bingroup": "x",
         "histfunc": "sum",
         "hovertemplate": "marca=Nikon<br>tipo=%{x}<br>sum of preco_unitario=%{y}<extra></extra>",
         "legendgroup": "Nikon",
         "marker": {
          "color": "#19d3f3",
          "pattern": {
           "shape": ""
          }
         },
         "name": "Nikon",
         "offsetgroup": "Nikon",
         "orientation": "v",
         "showlegend": true,
         "texttemplate": "%{value}",
         "type": "histogram",
         "x": [
          "Camera",
          "Camera",
          "Camera",
          "Camera",
          "Camera"
         ],
         "xaxis": "x",
         "y": [
          1396,
          2796.95,
          796.95,
          2196.95,
          2596.95
         ],
         "yaxis": "y"
        },
        {
         "alignmentgroup": "True",
         "bingroup": "x",
         "histfunc": "sum",
         "hovertemplate": "marca=Compaq<br>tipo=%{x}<br>sum of preco_unitario=%{y}<extra></extra>",
         "legendgroup": "Compaq",
         "marker": {
          "color": "#FF6692",
          "pattern": {
           "shape": ""
          }
         },
         "name": "Compaq",
         "offsetgroup": "Compaq",
         "orientation": "v",
         "showlegend": true,
         "texttemplate": "%{value}",
         "type": "histogram",
         "x": [
          "Notebook"
         ],
         "xaxis": "x",
         "y": [
          380
         ],
         "yaxis": "y"
        },
        {
         "alignmentgroup": "True",
         "bingroup": "x",
         "histfunc": "sum",
         "hovertemplate": "marca=Positivo<br>tipo=%{x}<br>sum of preco_unitario=%{y}<extra></extra>",
         "legendgroup": "Positivo",
         "marker": {
          "color": "#B6E880",
          "pattern": {
           "shape": ""
          }
         },
         "name": "Positivo",
         "offsetgroup": "Positivo",
         "orientation": "v",
         "showlegend": true,
         "texttemplate": "%{value}",
         "type": "histogram",
         "x": [
          "Notebook",
          "Notebook"
         ],
         "xaxis": "x",
         "y": [
          349,
          320
         ],
         "yaxis": "y"
        },
        {
         "alignmentgroup": "True",
         "bingroup": "x",
         "histfunc": "sum",
         "hovertemplate": "marca=Vaio<br>tipo=%{x}<br>sum of preco_unitario=%{y}<extra></extra>",
         "legendgroup": "Vaio",
         "marker": {
          "color": "#FF97FF",
          "pattern": {
           "shape": ""
          }
         },
         "name": "Vaio",
         "offsetgroup": "Vaio",
         "orientation": "v",
         "showlegend": true,
         "texttemplate": "%{value}",
         "type": "histogram",
         "x": [
          "Notebook"
         ],
         "xaxis": "x",
         "y": [
          319
         ],
         "yaxis": "y"
        },
        {
         "alignmentgroup": "True",
         "bingroup": "x",
         "histfunc": "sum",
         "hovertemplate": "marca=Razer<br>tipo=%{x}<br>sum of preco_unitario=%{y}<extra></extra>",
         "legendgroup": "Razer",
         "marker": {
          "color": "#FECB52",
          "pattern": {
           "shape": ""
          }
         },
         "name": "Razer",
         "offsetgroup": "Razer",
         "orientation": "v",
         "showlegend": true,
         "texttemplate": "%{value}",
         "type": "histogram",
         "x": [
          "Notebook",
          "Notebook",
          "Notebook",
          "Notebook"
         ],
         "xaxis": "x",
         "y": [
          3999,
          1199,
          1999,
          7999
         ],
         "yaxis": "y"
        }
       ],
       "layout": {
        "barmode": "relative",
        "legend": {
         "title": {
          "text": "marca"
         },
         "tracegroupgap": 0
        },
        "template": {
         "data": {
          "bar": [
           {
            "error_x": {
             "color": "#2a3f5f"
            },
            "error_y": {
             "color": "#2a3f5f"
            },
            "marker": {
             "line": {
              "color": "#E5ECF6",
              "width": 0.5
             },
             "pattern": {
              "fillmode": "overlay",
              "size": 10,
              "solidity": 0.2
             }
            },
            "type": "bar"
           }
          ],
          "barpolar": [
           {
            "marker": {
             "line": {
              "color": "#E5ECF6",
              "width": 0.5
             },
             "pattern": {
              "fillmode": "overlay",
              "size": 10,
              "solidity": 0.2
             }
            },
            "type": "barpolar"
           }
          ],
          "carpet": [
           {
            "aaxis": {
             "endlinecolor": "#2a3f5f",
             "gridcolor": "white",
             "linecolor": "white",
             "minorgridcolor": "white",
             "startlinecolor": "#2a3f5f"
            },
            "baxis": {
             "endlinecolor": "#2a3f5f",
             "gridcolor": "white",
             "linecolor": "white",
             "minorgridcolor": "white",
             "startlinecolor": "#2a3f5f"
            },
            "type": "carpet"
           }
          ],
          "choropleth": [
           {
            "colorbar": {
             "outlinewidth": 0,
             "ticks": ""
            },
            "type": "choropleth"
           }
          ],
          "contour": [
           {
            "colorbar": {
             "outlinewidth": 0,
             "ticks": ""
            },
            "colorscale": [
             [
              0,
              "#0d0887"
             ],
             [
              0.1111111111111111,
              "#46039f"
             ],
             [
              0.2222222222222222,
              "#7201a8"
             ],
             [
              0.3333333333333333,
              "#9c179e"
             ],
             [
              0.4444444444444444,
              "#bd3786"
             ],
             [
              0.5555555555555556,
              "#d8576b"
             ],
             [
              0.6666666666666666,
              "#ed7953"
             ],
             [
              0.7777777777777778,
              "#fb9f3a"
             ],
             [
              0.8888888888888888,
              "#fdca26"
             ],
             [
              1,
              "#f0f921"
             ]
            ],
            "type": "contour"
           }
          ],
          "contourcarpet": [
           {
            "colorbar": {
             "outlinewidth": 0,
             "ticks": ""
            },
            "type": "contourcarpet"
           }
          ],
          "heatmap": [
           {
            "colorbar": {
             "outlinewidth": 0,
             "ticks": ""
            },
            "colorscale": [
             [
              0,
              "#0d0887"
             ],
             [
              0.1111111111111111,
              "#46039f"
             ],
             [
              0.2222222222222222,
              "#7201a8"
             ],
             [
              0.3333333333333333,
              "#9c179e"
             ],
             [
              0.4444444444444444,
              "#bd3786"
             ],
             [
              0.5555555555555556,
              "#d8576b"
             ],
             [
              0.6666666666666666,
              "#ed7953"
             ],
             [
              0.7777777777777778,
              "#fb9f3a"
             ],
             [
              0.8888888888888888,
              "#fdca26"
             ],
             [
              1,
              "#f0f921"
             ]
            ],
            "type": "heatmap"
           }
          ],
          "heatmapgl": [
           {
            "colorbar": {
             "outlinewidth": 0,
             "ticks": ""
            },
            "colorscale": [
             [
              0,
              "#0d0887"
             ],
             [
              0.1111111111111111,
              "#46039f"
             ],
             [
              0.2222222222222222,
              "#7201a8"
             ],
             [
              0.3333333333333333,
              "#9c179e"
             ],
             [
              0.4444444444444444,
              "#bd3786"
             ],
             [
              0.5555555555555556,
              "#d8576b"
             ],
             [
              0.6666666666666666,
              "#ed7953"
             ],
             [
              0.7777777777777778,
              "#fb9f3a"
             ],
             [
              0.8888888888888888,
              "#fdca26"
             ],
             [
              1,
              "#f0f921"
             ]
            ],
            "type": "heatmapgl"
           }
          ],
          "histogram": [
           {
            "marker": {
             "pattern": {
              "fillmode": "overlay",
              "size": 10,
              "solidity": 0.2
             }
            },
            "type": "histogram"
           }
          ],
          "histogram2d": [
           {
            "colorbar": {
             "outlinewidth": 0,
             "ticks": ""
            },
            "colorscale": [
             [
              0,
              "#0d0887"
             ],
             [
              0.1111111111111111,
              "#46039f"
             ],
             [
              0.2222222222222222,
              "#7201a8"
             ],
             [
              0.3333333333333333,
              "#9c179e"
             ],
             [
              0.4444444444444444,
              "#bd3786"
             ],
             [
              0.5555555555555556,
              "#d8576b"
             ],
             [
              0.6666666666666666,
              "#ed7953"
             ],
             [
              0.7777777777777778,
              "#fb9f3a"
             ],
             [
              0.8888888888888888,
              "#fdca26"
             ],
             [
              1,
              "#f0f921"
             ]
            ],
            "type": "histogram2d"
           }
          ],
          "histogram2dcontour": [
           {
            "colorbar": {
             "outlinewidth": 0,
             "ticks": ""
            },
            "colorscale": [
             [
              0,
              "#0d0887"
             ],
             [
              0.1111111111111111,
              "#46039f"
             ],
             [
              0.2222222222222222,
              "#7201a8"
             ],
             [
              0.3333333333333333,
              "#9c179e"
             ],
             [
              0.4444444444444444,
              "#bd3786"
             ],
             [
              0.5555555555555556,
              "#d8576b"
             ],
             [
              0.6666666666666666,
              "#ed7953"
             ],
             [
              0.7777777777777778,
              "#fb9f3a"
             ],
             [
              0.8888888888888888,
              "#fdca26"
             ],
             [
              1,
              "#f0f921"
             ]
            ],
            "type": "histogram2dcontour"
           }
          ],
          "mesh3d": [
           {
            "colorbar": {
             "outlinewidth": 0,
             "ticks": ""
            },
            "type": "mesh3d"
           }
          ],
          "parcoords": [
           {
            "line": {
             "colorbar": {
              "outlinewidth": 0,
              "ticks": ""
             }
            },
            "type": "parcoords"
           }
          ],
          "pie": [
           {
            "automargin": true,
            "type": "pie"
           }
          ],
          "scatter": [
           {
            "fillpattern": {
             "fillmode": "overlay",
             "size": 10,
             "solidity": 0.2
            },
            "type": "scatter"
           }
          ],
          "scatter3d": [
           {
            "line": {
             "colorbar": {
              "outlinewidth": 0,
              "ticks": ""
             }
            },
            "marker": {
             "colorbar": {
              "outlinewidth": 0,
              "ticks": ""
             }
            },
            "type": "scatter3d"
           }
          ],
          "scattercarpet": [
           {
            "marker": {
             "colorbar": {
              "outlinewidth": 0,
              "ticks": ""
             }
            },
            "type": "scattercarpet"
           }
          ],
          "scattergeo": [
           {
            "marker": {
             "colorbar": {
              "outlinewidth": 0,
              "ticks": ""
             }
            },
            "type": "scattergeo"
           }
          ],
          "scattergl": [
           {
            "marker": {
             "colorbar": {
              "outlinewidth": 0,
              "ticks": ""
             }
            },
            "type": "scattergl"
           }
          ],
          "scattermapbox": [
           {
            "marker": {
             "colorbar": {
              "outlinewidth": 0,
              "ticks": ""
             }
            },
            "type": "scattermapbox"
           }
          ],
          "scatterpolar": [
           {
            "marker": {
             "colorbar": {
              "outlinewidth": 0,
              "ticks": ""
             }
            },
            "type": "scatterpolar"
           }
          ],
          "scatterpolargl": [
           {
            "marker": {
             "colorbar": {
              "outlinewidth": 0,
              "ticks": ""
             }
            },
            "type": "scatterpolargl"
           }
          ],
          "scatterternary": [
           {
            "marker": {
             "colorbar": {
              "outlinewidth": 0,
              "ticks": ""
             }
            },
            "type": "scatterternary"
           }
          ],
          "surface": [
           {
            "colorbar": {
             "outlinewidth": 0,
             "ticks": ""
            },
            "colorscale": [
             [
              0,
              "#0d0887"
             ],
             [
              0.1111111111111111,
              "#46039f"
             ],
             [
              0.2222222222222222,
              "#7201a8"
             ],
             [
              0.3333333333333333,
              "#9c179e"
             ],
             [
              0.4444444444444444,
              "#bd3786"
             ],
             [
              0.5555555555555556,
              "#d8576b"
             ],
             [
              0.6666666666666666,
              "#ed7953"
             ],
             [
              0.7777777777777778,
              "#fb9f3a"
             ],
             [
              0.8888888888888888,
              "#fdca26"
             ],
             [
              1,
              "#f0f921"
             ]
            ],
            "type": "surface"
           }
          ],
          "table": [
           {
            "cells": {
             "fill": {
              "color": "#EBF0F8"
             },
             "line": {
              "color": "white"
             }
            },
            "header": {
             "fill": {
              "color": "#C8D4E3"
             },
             "line": {
              "color": "white"
             }
            },
            "type": "table"
           }
          ]
         },
         "layout": {
          "annotationdefaults": {
           "arrowcolor": "#2a3f5f",
           "arrowhead": 0,
           "arrowwidth": 1
          },
          "autotypenumbers": "strict",
          "coloraxis": {
           "colorbar": {
            "outlinewidth": 0,
            "ticks": ""
           }
          },
          "colorscale": {
           "diverging": [
            [
             0,
             "#8e0152"
            ],
            [
             0.1,
             "#c51b7d"
            ],
            [
             0.2,
             "#de77ae"
            ],
            [
             0.3,
             "#f1b6da"
            ],
            [
             0.4,
             "#fde0ef"
            ],
            [
             0.5,
             "#f7f7f7"
            ],
            [
             0.6,
             "#e6f5d0"
            ],
            [
             0.7,
             "#b8e186"
            ],
            [
             0.8,
             "#7fbc41"
            ],
            [
             0.9,
             "#4d9221"
            ],
            [
             1,
             "#276419"
            ]
           ],
           "sequential": [
            [
             0,
             "#0d0887"
            ],
            [
             0.1111111111111111,
             "#46039f"
            ],
            [
             0.2222222222222222,
             "#7201a8"
            ],
            [
             0.3333333333333333,
             "#9c179e"
            ],
            [
             0.4444444444444444,
             "#bd3786"
            ],
            [
             0.5555555555555556,
             "#d8576b"
            ],
            [
             0.6666666666666666,
             "#ed7953"
            ],
            [
             0.7777777777777778,
             "#fb9f3a"
            ],
            [
             0.8888888888888888,
             "#fdca26"
            ],
            [
             1,
             "#f0f921"
            ]
           ],
           "sequentialminus": [
            [
             0,
             "#0d0887"
            ],
            [
             0.1111111111111111,
             "#46039f"
            ],
            [
             0.2222222222222222,
             "#7201a8"
            ],
            [
             0.3333333333333333,
             "#9c179e"
            ],
            [
             0.4444444444444444,
             "#bd3786"
            ],
            [
             0.5555555555555556,
             "#d8576b"
            ],
            [
             0.6666666666666666,
             "#ed7953"
            ],
            [
             0.7777777777777778,
             "#fb9f3a"
            ],
            [
             0.8888888888888888,
             "#fdca26"
            ],
            [
             1,
             "#f0f921"
            ]
           ]
          },
          "colorway": [
           "#636efa",
           "#EF553B",
           "#00cc96",
           "#ab63fa",
           "#FFA15A",
           "#19d3f3",
           "#FF6692",
           "#B6E880",
           "#FF97FF",
           "#FECB52"
          ],
          "font": {
           "color": "#2a3f5f"
          },
          "geo": {
           "bgcolor": "white",
           "lakecolor": "white",
           "landcolor": "#E5ECF6",
           "showlakes": true,
           "showland": true,
           "subunitcolor": "white"
          },
          "hoverlabel": {
           "align": "left"
          },
          "hovermode": "closest",
          "mapbox": {
           "style": "light"
          },
          "paper_bgcolor": "white",
          "plot_bgcolor": "#E5ECF6",
          "polar": {
           "angularaxis": {
            "gridcolor": "white",
            "linecolor": "white",
            "ticks": ""
           },
           "bgcolor": "#E5ECF6",
           "radialaxis": {
            "gridcolor": "white",
            "linecolor": "white",
            "ticks": ""
           }
          },
          "scene": {
           "xaxis": {
            "backgroundcolor": "#E5ECF6",
            "gridcolor": "white",
            "gridwidth": 2,
            "linecolor": "white",
            "showbackground": true,
            "ticks": "",
            "zerolinecolor": "white"
           },
           "yaxis": {
            "backgroundcolor": "#E5ECF6",
            "gridcolor": "white",
            "gridwidth": 2,
            "linecolor": "white",
            "showbackground": true,
            "ticks": "",
            "zerolinecolor": "white"
           },
           "zaxis": {
            "backgroundcolor": "#E5ECF6",
            "gridcolor": "white",
            "gridwidth": 2,
            "linecolor": "white",
            "showbackground": true,
            "ticks": "",
            "zerolinecolor": "white"
           }
          },
          "shapedefaults": {
           "line": {
            "color": "#2a3f5f"
           }
          },
          "ternary": {
           "aaxis": {
            "gridcolor": "white",
            "linecolor": "white",
            "ticks": ""
           },
           "baxis": {
            "gridcolor": "white",
            "linecolor": "white",
            "ticks": ""
           },
           "bgcolor": "#E5ECF6",
           "caxis": {
            "gridcolor": "white",
            "linecolor": "white",
            "ticks": ""
           }
          },
          "title": {
           "x": 0.05
          },
          "xaxis": {
           "automargin": true,
           "gridcolor": "white",
           "linecolor": "white",
           "ticks": "",
           "title": {
            "standoff": 15
           },
           "zerolinecolor": "white",
           "zerolinewidth": 2
          },
          "yaxis": {
           "automargin": true,
           "gridcolor": "white",
           "linecolor": "white",
           "ticks": "",
           "title": {
            "standoff": 15
           },
           "zerolinecolor": "white",
           "zerolinewidth": 2
          }
         }
        },
        "title": {
         "text": "Faturamento"
        },
        "xaxis": {
         "anchor": "y",
         "domain": [
          0,
          1
         ],
         "title": {
          "text": "tipo"
         }
        },
        "yaxis": {
         "anchor": "x",
         "domain": [
          0,
          1
         ],
         "title": {
          "text": "sum of preco_unitario"
         }
        }
       }
      }
     },
     "metadata": {},
     "output_type": "display_data"
    }
   ],
   "source": [
    "#!pip install plotly\n",
    "\n",
    "\n",
    "grafico = px.histogram(dados, x=\"tipo\",y=\"preco_unitario\", text_auto=True, title=\"Faturamento\",color=\"marca\")\n",
    "grafico.show()\n",
    "grafico.write_html(\"faturamento_grafico.html\")"
   ]
  }
 ],
 "metadata": {
  "kernelspec": {
   "display_name": "Python 3",
   "language": "python",
   "name": "python3"
  },
  "language_info": {
   "codemirror_mode": {
    "name": "ipython",
    "version": 3
   },
   "file_extension": ".py",
   "mimetype": "text/x-python",
   "name": "python",
   "nbconvert_exporter": "python",
   "pygments_lexer": "ipython3",
   "version": "3.12.4"
  }
 },
 "nbformat": 4,
 "nbformat_minor": 2
}
