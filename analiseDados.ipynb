{
 "cells": [
  {
   "cell_type": "markdown",
   "metadata": {},
   "source": [
    "#### Bibliotecas\n",
    "- 'pip install pandas'\n",
    "- 'pip install openpyxl'\n",
    "- 'pip install plotly'\n",
    "- 'pip install nbformat'"
   ]
  },
  {
   "cell_type": "markdown",
   "metadata": {},
   "source": [
    "#### Carregando Dados"
   ]
  },
  {
   "cell_type": "code",
   "execution_count": 27,
   "metadata": {},
   "outputs": [
    {
     "name": "stdout",
     "output_type": "stream",
     "text": [
      "Collecting openpyxl\n",
      "  Downloading openpyxl-3.1.5-py2.py3-none-any.whl.metadata (2.5 kB)\n",
      "Collecting et-xmlfile (from openpyxl)\n",
      "  Using cached et_xmlfile-1.1.0-py3-none-any.whl.metadata (1.8 kB)\n",
      "Downloading openpyxl-3.1.5-py2.py3-none-any.whl (250 kB)\n",
      "Using cached et_xmlfile-1.1.0-py3-none-any.whl (4.7 kB)\n",
      "Installing collected packages: et-xmlfile, openpyxl\n",
      "Successfully installed et-xmlfile-1.1.0 openpyxl-3.1.5\n",
      "         codigo       marca        tipo  categoria  preco_unitario  custo  \\\n",
      "0    MOLO000251    Logitech       Mouse          1           25.95    6.5   \n",
      "1    MOLO000192    Logitech       Mouse          2           19.95    5.0   \n",
      "2    CAHA000251     Hashtag      Camisa          1           25.00   11.0   \n",
      "3    CAHA000252     Hashtag      Camisa          2           25.00   11.0   \n",
      "4    MOMU000111  Multilaser       Mouse          1           11.99    3.4   \n",
      "..          ...         ...         ...        ...             ...    ...   \n",
      "288  ACAP000192       Apple  Acessorios          2           19.00    3.8   \n",
      "289  ACSA0009.3     Samsung  Acessorios          3            9.55    2.1   \n",
      "290  CEMO000271    Motorola     Celular          1          279.00   72.5   \n",
      "291  FOMO000152    Motorola        Fone          2          150.00   33.0   \n",
      "292  CEMO000223    Motorola     Celular          3          229.00   55.0   \n",
      "\n",
      "                  obs  \n",
      "0                 NaN  \n",
      "1                 NaN  \n",
      "2                 NaN  \n",
      "3    Conferir estoque  \n",
      "4                 NaN  \n",
      "..                ...  \n",
      "288               NaN  \n",
      "289               NaN  \n",
      "290               NaN  \n",
      "291               NaN  \n",
      "292               NaN  \n",
      "\n",
      "[293 rows x 7 columns]\n"
     ]
    }
   ],
   "source": [
    "#!pip install openpyxl\n",
    "import pandas as pd\n",
    "import openpyxl\n",
    "\n",
    "dados = pd.read_csv(\"produtos.csv\")\n",
    "print(dados)"
   ]
  },
  {
   "cell_type": "markdown",
   "metadata": {},
   "source": [
    "#### Análises Primárias"
   ]
  },
  {
   "cell_type": "code",
   "execution_count": null,
   "metadata": {},
   "outputs": [],
   "source": [
    "dados.head(10) # Carregar as primeiras 10 linhas"
   ]
  },
  {
   "cell_type": "code",
   "execution_count": null,
   "metadata": {},
   "outputs": [],
   "source": [
    "dados.tail(10) # Carregar as últimas 10 linhas"
   ]
  },
  {
   "cell_type": "code",
   "execution_count": 7,
   "metadata": {},
   "outputs": [
    {
     "data": {
      "text/plain": [
       "(293, 7)"
      ]
     },
     "execution_count": 7,
     "metadata": {},
     "output_type": "execute_result"
    }
   ],
   "source": [
    "dados.shape # Propriedade do pandas que monstra o formata (quantidade de linhas e colunas)"
   ]
  },
  {
   "cell_type": "code",
   "execution_count": null,
   "metadata": {},
   "outputs": [],
   "source": [
    "dados.info() # Visualização das informações da tabela"
   ]
  },
  {
   "cell_type": "code",
   "execution_count": null,
   "metadata": {},
   "outputs": [],
   "source": [
    "dados[[\"marca\",\"preco_unitario\"]] # Permite escolher colunas específicas"
   ]
  },
  {
   "cell_type": "markdown",
   "metadata": {},
   "source": [
    "#### Estatísticas"
   ]
  },
  {
   "cell_type": "code",
   "execution_count": null,
   "metadata": {},
   "outputs": [],
   "source": [
    "dados.describe() # Informações estatísticas. Por padrão ele traz apenas os valores numéricos"
   ]
  },
  {
   "cell_type": "markdown",
   "metadata": {},
   "source": [
    "#### Análises"
   ]
  },
  {
   "cell_type": "code",
   "execution_count": null,
   "metadata": {},
   "outputs": [],
   "source": [
    "# Contagem por Marca\n",
    "dados[\"marca\"].value_counts()"
   ]
  },
  {
   "cell_type": "markdown",
   "metadata": {},
   "source": [
    "#### Agrupando Dados"
   ]
  },
  {
   "cell_type": "code",
   "execution_count": null,
   "metadata": {},
   "outputs": [],
   "source": [
    "dados.groupby(\"tipo\")[\"preco_unitario\"].sum().to_frame() # Soma todos os valores por item. A sufixo to_frame é só para deixar mais bonito"
   ]
  },
  {
   "cell_type": "code",
   "execution_count": 28,
   "metadata": {},
   "outputs": [],
   "source": [
    "dados_agrupados = dados.groupby([\"marca\", \"tipo\", \"categoria\"])[\"preco_unitario\"].sum().to_frame()"
   ]
  },
  {
   "cell_type": "markdown",
   "metadata": {},
   "source": [
    "#### Exportando Resultados"
   ]
  },
  {
   "cell_type": "code",
   "execution_count": 29,
   "metadata": {},
   "outputs": [],
   "source": [
    "dados_agrupados.to_excel(\"faturamento_agrupado.xlsx\") # Para funcionar essa saída que se precisa da biblioteca openpyxl"
   ]
  },
  {
   "cell_type": "markdown",
   "metadata": {},
   "source": [
    "#### Vizualizando Dados"
   ]
  },
  {
   "cell_type": "code",
   "execution_count": 33,
   "metadata": {},
   "outputs": [],
   "source": [
    "#!pip install plotly\n",
    "import plotly.express as px\n",
    "\n",
    "px.histogramdados"
   ]
  }
 ],
 "metadata": {
  "kernelspec": {
   "display_name": "Python 3",
   "language": "python",
   "name": "python3"
  },
  "language_info": {
   "codemirror_mode": {
    "name": "ipython",
    "version": 3
   },
   "file_extension": ".py",
   "mimetype": "text/x-python",
   "name": "python",
   "nbconvert_exporter": "python",
   "pygments_lexer": "ipython3",
   "version": "3.12.4"
  }
 },
 "nbformat": 4,
 "nbformat_minor": 2
}
